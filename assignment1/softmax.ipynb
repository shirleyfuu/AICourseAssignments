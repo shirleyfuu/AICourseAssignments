{
 "cells": [
  {
   "cell_type": "markdown",
   "metadata": {
    "tags": [
     "pdf-title"
    ]
   },
   "source": [
    "# Softmax exercise\n",
    "\n",
    "*Complete and hand in this completed worksheet (including its outputs and any supporting code outside of the worksheet) with your assignment submission. For more details see the [assignments page](http://vision.stanford.edu/teaching/cs231n/assignments.html) on the course website.*\n",
    "\n",
    "This exercise is analogous to the SVM exercise. You will:\n",
    "\n",
    "- implement a fully-vectorized **loss function** for the Softmax classifier\n",
    "- implement the fully-vectorized expression for its **analytic gradient**\n",
    "- **check your implementation** with numerical gradient\n",
    "- use a validation set to **tune the learning rate and regularization** strength\n",
    "- **optimize** the loss function with **SGD**\n",
    "- **visualize** the final learned weights\n"
   ]
  },
  {
   "cell_type": "code",
   "execution_count": 1,
   "metadata": {
    "tags": [
     "pdf-ignore"
    ],
    "pycharm": {
     "is_executing": false
    }
   },
   "outputs": [],
   "source": [
    "import random\n",
    "import numpy as np\n",
    "from cs231n.data_utils import load_CIFAR10\n",
    "import matplotlib.pyplot as plt\n",
    "\n",
    "%matplotlib inline\n",
    "plt.rcParams['figure.figsize'] = (10.0, 8.0) # set default size of plots\n",
    "plt.rcParams['image.interpolation'] = 'nearest'\n",
    "plt.rcParams['image.cmap'] = 'gray'\n",
    "\n",
    "# for auto-reloading extenrnal modules\n",
    "# see http://stackoverflow.com/questions/1907993/autoreload-of-modules-in-ipython\n",
    "%load_ext autoreload\n",
    "%autoreload 2"
   ]
  },
  {
   "cell_type": "code",
   "execution_count": 2,
   "metadata": {
    "tags": [
     "pdf-ignore"
    ],
    "pycharm": {
     "is_executing": false
    }
   },
   "outputs": [
    {
     "name": "stdout",
     "text": [
      "Train data shape:  (49000, 3073)\n",
      "Train labels shape:  (49000,)\n",
      "Validation data shape:  (1000, 3073)\n",
      "Validation labels shape:  (1000,)\n",
      "Test data shape:  (1000, 3073)\n",
      "Test labels shape:  (1000,)\n",
      "dev data shape:  (500, 3073)\n",
      "dev labels shape:  (500,)\n"
     ],
     "output_type": "stream"
    }
   ],
   "source": [
    "def get_CIFAR10_data(num_training=49000, num_validation=1000, num_test=1000, num_dev=500):\n",
    "    \"\"\"\n",
    "    Load the CIFAR-10 dataset from disk and perform preprocessing to prepare\n",
    "    it for the linear classifier. These are the same steps as we used for the\n",
    "    SVM, but condensed to a single function.  \n",
    "    \"\"\"\n",
    "    # Load the raw CIFAR-10 data\n",
    "    cifar10_dir = 'cs231n/datasets/cifar-10-batches-py'\n",
    "    \n",
    "    # Cleaning up variables to prevent loading data multiple times (which may cause memory issue)\n",
    "    try:\n",
    "       del X_train, y_train\n",
    "       del X_test, y_test\n",
    "       print('Clear previously loaded data.')\n",
    "    except:\n",
    "       pass\n",
    "\n",
    "    X_train, y_train, X_test, y_test = load_CIFAR10(cifar10_dir)\n",
    "    \n",
    "    # subsample the data\n",
    "    mask = list(range(num_training, num_training + num_validation))\n",
    "    X_val = X_train[mask]\n",
    "    y_val = y_train[mask]\n",
    "    mask = list(range(num_training))\n",
    "    X_train = X_train[mask]\n",
    "    y_train = y_train[mask]\n",
    "    mask = list(range(num_test))\n",
    "    X_test = X_test[mask]\n",
    "    y_test = y_test[mask]\n",
    "    mask = np.random.choice(num_training, num_dev, replace=False)\n",
    "    X_dev = X_train[mask]\n",
    "    y_dev = y_train[mask]\n",
    "    \n",
    "    # Preprocessing: reshape the image data into rows\n",
    "    X_train = np.reshape(X_train, (X_train.shape[0], -1))\n",
    "    X_val = np.reshape(X_val, (X_val.shape[0], -1))\n",
    "    X_test = np.reshape(X_test, (X_test.shape[0], -1))\n",
    "    X_dev = np.reshape(X_dev, (X_dev.shape[0], -1))\n",
    "    \n",
    "    # Normalize the data: subtract the mean image\n",
    "    mean_image = np.mean(X_train, axis = 0)\n",
    "    X_train -= mean_image\n",
    "    X_val -= mean_image\n",
    "    X_test -= mean_image\n",
    "    X_dev -= mean_image\n",
    "    \n",
    "    # add bias dimension and transform into columns\n",
    "    X_train = np.hstack([X_train, np.ones((X_train.shape[0], 1))])\n",
    "    X_val = np.hstack([X_val, np.ones((X_val.shape[0], 1))])\n",
    "    X_test = np.hstack([X_test, np.ones((X_test.shape[0], 1))])\n",
    "    X_dev = np.hstack([X_dev, np.ones((X_dev.shape[0], 1))])\n",
    "    \n",
    "    return X_train, y_train, X_val, y_val, X_test, y_test, X_dev, y_dev\n",
    "\n",
    "\n",
    "# Invoke the above function to get our data.\n",
    "X_train, y_train, X_val, y_val, X_test, y_test, X_dev, y_dev = get_CIFAR10_data()\n",
    "print('Train data shape: ', X_train.shape)\n",
    "print('Train labels shape: ', y_train.shape)\n",
    "print('Validation data shape: ', X_val.shape)\n",
    "print('Validation labels shape: ', y_val.shape)\n",
    "print('Test data shape: ', X_test.shape)\n",
    "print('Test labels shape: ', y_test.shape)\n",
    "print('dev data shape: ', X_dev.shape)\n",
    "print('dev labels shape: ', y_dev.shape)"
   ]
  },
  {
   "cell_type": "markdown",
   "metadata": {},
   "source": [
    "## Softmax Classifier\n",
    "\n",
    "Your code for this section will all be written inside **cs231n/classifiers/softmax.py**. \n"
   ]
  },
  {
   "cell_type": "code",
   "execution_count": 3,
   "metadata": {
    "pycharm": {
     "is_executing": false
    }
   },
   "outputs": [
    {
     "name": "stdout",
     "text": [
      "loss: 2.366907\n",
      "sanity check: 2.302585\n"
     ],
     "output_type": "stream"
    }
   ],
   "source": [
    "# First implement the naive softmax loss function with nested loops.\n",
    "# Open the file cs231n/classifiers/softmax.py and implement the\n",
    "# softmax_loss_naive function.\n",
    "\n",
    "from cs231n.classifiers.softmax import softmax_loss_naive\n",
    "import time\n",
    "\n",
    "# Generate a random softmax weight matrix and use it to compute the loss.\n",
    "W = np.random.randn(3073, 10) * 0.0001\n",
    "loss, grad = softmax_loss_naive(W, X_dev, y_dev, 0.0)\n",
    "\n",
    "# As a rough sanity check, our loss should be something close to -log(0.1).\n",
    "print('loss: %f' % loss)\n",
    "print('sanity check: %f' % (-np.log(0.1)))"
   ]
  },
  {
   "cell_type": "markdown",
   "metadata": {
    "tags": [
     "pdf-inline"
    ]
   },
   "source": [
    "**Inline Question 1**\n",
    "\n",
    "Why do we expect our loss to be close to -log(0.1)? Explain briefly.**\n",
    "\n",
    "$\\color{blue}{\\textit Your Answer:}$ *There are ten classes here, so if the scores are random and mostly equal, we expect the ratio in the softmax formula to be about -log(0.1).* \n",
    "\n"
   ]
  },
  {
   "cell_type": "code",
   "execution_count": 4,
   "metadata": {
    "pycharm": {
     "is_executing": false
    }
   },
   "outputs": [
    {
     "name": "stdout",
     "text": [
      "numerical: -1.056459 analytic: -1.056459, relative error: 1.890718e-09\n",
      "numerical: 0.788487 analytic: 0.788487, relative error: 3.202161e-08\n",
      "numerical: 2.789066 analytic: 2.789065, relative error: 2.409483e-08\n",
      "numerical: -2.055661 analytic: -2.055661, relative error: 9.065516e-09\n",
      "numerical: 0.340753 analytic: 0.340753, relative error: 1.151420e-07\n",
      "numerical: 0.144414 analytic: 0.144414, relative error: 1.228246e-07\n",
      "numerical: 0.792548 analytic: 0.792548, relative error: 3.518516e-09\n",
      "numerical: -2.099587 analytic: -2.099587, relative error: 6.986864e-09\n",
      "numerical: 2.602290 analytic: 2.602290, relative error: 3.329406e-09\n",
      "numerical: -0.915919 analytic: -0.915919, relative error: 1.171001e-08\n",
      "numerical: -1.603754 analytic: -1.603754, relative error: 3.121975e-08\n",
      "numerical: -1.575697 analytic: -1.575697, relative error: 3.736654e-09\n",
      "numerical: -1.221808 analytic: -1.221808, relative error: 4.180425e-09\n",
      "numerical: -0.557696 analytic: -0.557696, relative error: 1.025925e-07\n",
      "numerical: -0.460228 analytic: -0.460227, relative error: 1.064902e-07\n",
      "numerical: 1.852801 analytic: 1.852801, relative error: 1.677545e-08\n",
      "numerical: -1.943981 analytic: -1.943981, relative error: 9.897523e-09\n",
      "numerical: -1.969526 analytic: -1.969526, relative error: 1.680272e-08\n",
      "numerical: 1.373466 analytic: 1.373466, relative error: 2.449633e-08\n",
      "numerical: -0.424948 analytic: -0.424948, relative error: 2.225142e-08\n"
     ],
     "output_type": "stream"
    }
   ],
   "source": [
    "# Complete the implementation of softmax_loss_naive and implement a (naive)\n",
    "# version of the gradient that uses nested loops.\n",
    "loss, grad = softmax_loss_naive(W, X_dev, y_dev, 0.0)\n",
    "\n",
    "# As we did for the SVM, use numeric gradient checking as a debugging tool.\n",
    "# The numeric gradient should be close to the analytic gradient.\n",
    "from cs231n.gradient_check import grad_check_sparse\n",
    "f = lambda w: softmax_loss_naive(w, X_dev, y_dev, 0.0)[0]\n",
    "grad_numerical = grad_check_sparse(f, W, grad, 10)\n",
    "\n",
    "# similar to SVM case, do another gradient check with regularization\n",
    "loss, grad = softmax_loss_naive(W, X_dev, y_dev, 5e1)\n",
    "f = lambda w: softmax_loss_naive(w, X_dev, y_dev, 5e1)[0]\n",
    "grad_numerical = grad_check_sparse(f, W, grad, 10)"
   ]
  },
  {
   "cell_type": "code",
   "execution_count": 5,
   "metadata": {
    "pycharm": {
     "is_executing": false
    }
   },
   "outputs": [
    {
     "name": "stdout",
     "text": [
      "naive loss: 2.366907e+00 computed in 0.280035s\n",
      "vectorized loss: 2.366907e+00 computed in 0.316667s\n",
      "Loss difference: 0.000000\n",
      "Gradient difference: 0.000000\n"
     ],
     "output_type": "stream"
    }
   ],
   "source": [
    "# Now that we have a naive implementation of the softmax loss function and its gradient,\n",
    "# implement a vectorized version in softmax_loss_vectorized.\n",
    "# The two versions should compute the same results, but the vectorized version should be\n",
    "# much faster.\n",
    "tic = time.time()\n",
    "loss_naive, grad_naive = softmax_loss_naive(W, X_dev, y_dev, 0.000005)\n",
    "toc = time.time()\n",
    "print('naive loss: %e computed in %fs' % (loss_naive, toc - tic))\n",
    "\n",
    "from cs231n.classifiers.softmax import softmax_loss_vectorized\n",
    "tic = time.time()\n",
    "loss_vectorized, grad_vectorized = softmax_loss_vectorized(W, X_dev, y_dev, 0.000005)\n",
    "toc = time.time()\n",
    "print('vectorized loss: %e computed in %fs' % (loss_vectorized, toc - tic))\n",
    "\n",
    "# As we did for the SVM, we use the Frobenius norm to compare the two versions\n",
    "# of the gradient.\n",
    "grad_difference = np.linalg.norm(grad_naive - grad_vectorized, ord='fro')\n",
    "print('Loss difference: %f' % np.abs(loss_naive - loss_vectorized))\n",
    "print('Gradient difference: %f' % grad_difference)"
   ]
  },
  {
   "cell_type": "code",
   "execution_count": 6,
   "metadata": {
    "tags": [
     "code"
    ],
    "pycharm": {
     "is_executing": false
    }
   },
   "outputs": [
    {
     "name": "stdout",
     "text": [
      "iteration 0 / 1500: loss 388.626173\n",
      "iteration 100 / 1500: loss 234.712984\n",
      "iteration 200 / 1500: loss 142.638101\n",
      "iteration 300 / 1500: loss 87.038508\n",
      "iteration 400 / 1500: loss 53.436889\n",
      "iteration 500 / 1500: loss 33.103379\n",
      "iteration 600 / 1500: loss 20.883575\n",
      "iteration 700 / 1500: loss 13.342618\n",
      "iteration 800 / 1500: loss 8.938524\n",
      "iteration 900 / 1500: loss 6.159085\n",
      "iteration 1000 / 1500: loss 4.581731\n",
      "iteration 1100 / 1500: loss 3.623138\n",
      "iteration 1200 / 1500: loss 2.885683\n",
      "iteration 1300 / 1500: loss 2.569643\n",
      "iteration 1400 / 1500: loss 2.343409\n",
      "iteration 0 / 1500: loss 782.534501\n",
      "iteration 100 / 1500: loss 287.076565\n",
      "iteration 200 / 1500: loss 106.268398\n",
      "iteration 300 / 1500: loss 40.321495\n",
      "iteration 400 / 1500: loss 15.977788\n",
      "iteration 500 / 1500: loss 7.261300\n",
      "iteration 600 / 1500: loss 3.935098\n",
      "iteration 700 / 1500: loss 2.759912\n",
      "iteration 800 / 1500: loss 2.342745\n",
      "iteration 900 / 1500: loss 2.164999\n",
      "iteration 1000 / 1500: loss 2.152827\n",
      "iteration 1100 / 1500: loss 2.106904\n",
      "iteration 1200 / 1500: loss 2.039688\n",
      "iteration 1300 / 1500: loss 2.112365\n",
      "iteration 1400 / 1500: loss 2.131397\n",
      "iteration 0 / 1500: loss 387.485884\n",
      "iteration 100 / 1500: loss 32.617364\n",
      "iteration 200 / 1500: loss 4.496816\n",
      "iteration 300 / 1500: loss 2.299865\n",
      "iteration 400 / 1500: loss 2.063453\n",
      "iteration 500 / 1500: loss 2.016012\n",
      "iteration 600 / 1500: loss 2.034970\n",
      "iteration 700 / 1500: loss 1.972142\n",
      "iteration 800 / 1500: loss 1.980153\n",
      "iteration 900 / 1500: loss 2.054577\n",
      "iteration 1000 / 1500: loss 2.007001\n",
      "iteration 1100 / 1500: loss 2.046286\n",
      "iteration 1200 / 1500: loss 2.018866\n",
      "iteration 1300 / 1500: loss 2.020141\n",
      "iteration 1400 / 1500: loss 2.027470\n",
      "iteration 0 / 1500: loss 772.701785\n",
      "iteration 100 / 1500: loss 6.865130\n",
      "iteration 200 / 1500: loss 2.091316\n",
      "iteration 300 / 1500: loss 2.107707\n",
      "iteration 400 / 1500: loss 2.070534\n",
      "iteration 500 / 1500: loss 2.099781\n",
      "iteration 600 / 1500: loss 2.094330\n",
      "iteration 700 / 1500: loss 2.069491\n",
      "iteration 800 / 1500: loss 2.086187\n",
      "iteration 900 / 1500: loss 2.117401\n",
      "iteration 1000 / 1500: loss 2.106429\n",
      "iteration 1100 / 1500: loss 2.080619\n",
      "iteration 1200 / 1500: loss 2.098071\n",
      "iteration 1300 / 1500: loss 2.054375\n",
      "iteration 1400 / 1500: loss 2.075103\n",
      "lr 1.000000e-07 reg 2.500000e+04 train accuracy: 0.346633 val accuracy: 0.354000\n",
      "lr 1.000000e-07 reg 5.000000e+04 train accuracy: 0.324878 val accuracy: 0.333000\n",
      "lr 5.000000e-07 reg 2.500000e+04 train accuracy: 0.346469 val accuracy: 0.357000\n",
      "lr 5.000000e-07 reg 5.000000e+04 train accuracy: 0.323633 val accuracy: 0.343000\n",
      "best validation accuracy achieved during cross-validation: 0.357000\n"
     ],
     "output_type": "stream"
    }
   ],
   "source": [
    "# Use the validation set to tune hyperparameters (regularization strength and\n",
    "# learning rate). You should experiment with different ranges for the learning\n",
    "# rates and regularization strengths; if you are careful you should be able to\n",
    "# get a classification accuracy of over 0.35 on the validation set.\n",
    "from cs231n.classifiers import Softmax\n",
    "results = {}\n",
    "best_val = -1\n",
    "best_softmax = None\n",
    "learning_rates = [1e-7, 5e-7]\n",
    "regularization_strengths = [2.5e4, 5e4]\n",
    "\n",
    "################################################################################\n",
    "# TODO:                                                                        #\n",
    "# Use the validation set to set the learning rate and regularization strength. #\n",
    "# This should be identical to the validation that you did for the SVM; save    #\n",
    "# the best trained softmax classifer in best_softmax.                          #\n",
    "################################################################################\n",
    "# *****START OF YOUR CODE (DO NOT DELETE/MODIFY THIS LINE)*****\n",
    "\n",
    "for rate in learning_rates:\n",
    "    for reg in regularization_strengths:\n",
    "        s=Softmax()\n",
    "        s.train(X_train,y_train,learning_rate=rate,reg=reg,num_iters=1500,verbose=True)\n",
    "        y_train_pred = s.predict(X_train)\n",
    "        y_val_pred = s.predict(X_val)\n",
    "        val=np.mean(y_val == y_val_pred)\n",
    "        if val>best_val:\n",
    "            best_softmax=s\n",
    "            best_val=val\n",
    "        results[(rate,reg)]=(np.mean(y_train == y_train_pred),val)\n",
    "\n",
    "\n",
    "# *****END OF YOUR CODE (DO NOT DELETE/MODIFY THIS LINE)*****\n",
    "    \n",
    "# Print out results.\n",
    "for lr, reg in sorted(results):\n",
    "    train_accuracy, val_accuracy = results[(lr, reg)]\n",
    "    print('lr %e reg %e train accuracy: %f val accuracy: %f' % (\n",
    "                lr, reg, train_accuracy, val_accuracy))\n",
    "    \n",
    "print('best validation accuracy achieved during cross-validation: %f' % best_val)"
   ]
  },
  {
   "cell_type": "code",
   "execution_count": 7,
   "metadata": {
    "pycharm": {
     "is_executing": false
    }
   },
   "outputs": [
    {
     "name": "stdout",
     "text": [
      "softmax on raw pixels final test set accuracy: 0.346000\n"
     ],
     "output_type": "stream"
    }
   ],
   "source": [
    "# evaluate on test set\n",
    "# Evaluate the best softmax on test set\n",
    "y_test_pred = best_softmax.predict(X_test)\n",
    "test_accuracy = np.mean(y_test == y_test_pred)\n",
    "print('softmax on raw pixels final test set accuracy: %f' % (test_accuracy, ))"
   ]
  },
  {
   "cell_type": "markdown",
   "metadata": {
    "tags": [
     "pdf-inline"
    ]
   },
   "source": [
    "**Inline Question 2** - *True or False*\n",
    "\n",
    "Suppose the overall training loss is defined as the sum of the per-datapoint loss over all training examples. It is possible to add a new datapoint to a training set that would leave the SVM loss unchanged, but this is not the case with the Softmax classifier loss.\n",
    "\n",
    "$\\color{blue}{\\textit Your Answer:}$\n",
    "True\n",
    "\n",
    "$\\color{blue}{\\textit Your Explanation:}$\n",
    "\n",
    "SVM loss can be strictly equal to zero for data points with big enough margin. But Softmax classifier loss is always positive."
   ]
  },
  {
   "cell_type": "code",
   "execution_count": 8,
   "metadata": {
    "pycharm": {
     "is_executing": false
    }
   },
   "outputs": [
    {
     "data": {
      "text/plain": "<matplotlib.figure.Figure at 0x209e63ee128>",
      "image/png": "[encoded data removed]"
     },
     "metadata": {},
     "output_type": "display_data"
    }
   ],
   "source": [
    "# Visualize the learned weights for each class\n",
    "w = best_softmax.W[:-1,:] # strip out the bias\n",
    "w = w.reshape(32, 32, 3, 10)\n",
    "\n",
    "w_min, w_max = np.min(w), np.max(w)\n",
    "\n",
    "classes = ['plane', 'car', 'bird', 'cat', 'deer', 'dog', 'frog', 'horse', 'ship', 'truck']\n",
    "for i in range(10):\n",
    "    plt.subplot(2, 5, i + 1)\n",
    "    \n",
    "    # Rescale the weights to be between 0 and 255\n",
    "    wimg = 255.0 * (w[:, :, :, i].squeeze() - w_min) / (w_max - w_min)\n",
    "    plt.imshow(wimg.astype('uint8'))\n",
    "    plt.axis('off')\n",
    "    plt.title(classes[i])"
   ]
  }
 ],
 "metadata": {
  "kernelspec": {
   "display_name": "Python 3",
   "language": "python",
   "name": "python3"
  },
  "language_info": {
   "codemirror_mode": {
    "name": "ipython",
    "version": 3
   },
   "file_extension": ".py",
   "mimetype": "text/x-python",
   "name": "python",
   "nbconvert_exporter": "python",
   "pygments_lexer": "ipython3",
   "version": "3.7.1"
  },
  "pycharm": {
   "stem_cell": {
    "cell_type": "raw",
    "source": [],
    "metadata": {
     "collapsed": false
    }
   }
  }
 },
 "nbformat": 4,
 "nbformat_minor": 1
}